{
 "cells": [
  {
   "cell_type": "markdown",
   "metadata": {},
   "source": [
    "# 911-Crime detection using ResNet50 Model\n",
    "\n",
    "###### By Project ATMA Team"
   ]
  },
  {
   "cell_type": "markdown",
   "metadata": {},
   "source": [
    "## Introduction\n",
    "\n",
    "For this model, we decided to use the ResNet50 (Deep Residual Networks with 50 layers) to help us determine whether a given short video input can be classified as an active crime.\n",
    "\n",
    "In this python notebook, we will explore the use of features in order to re-train a model's trained weights (in the dense layers and some layers from the original model) to recognize crimes without the need to train the full model from scratch (which usually requires a large amount of data).\n",
    "\n",
    "ResNet has an exotic architecture also called \"network on network architecture\". Such micro-architecture modules refer to the building blocks that make up the network. Together with the standard layers, a macho-architecture is formed and \"residual learning\" is introduced. Ever since introduced by He et al., ResNets have demostrated that deep networks can be trained with a standard SGD (Stochastic Gradient Descent) optimizer.\n",
    "\n",
    "\"Deep convolutional neural networks have led to a series of breakthroughs for image classification. Many other visual recognition tasks have also greatly benefited from very deep models. Over the years there is a trend to go more deeper to solve more complex tasks and to also increase/improve the classification/recognition accuracy. But, as we go deeper, the training of neural network becomes difficult; the accuracy saturates and even degrades. Residual Learning tries to solve both these problems.\n",
    "In general, in a deep convolutional neural network, several layers are stacked and are trained to the task at hand. The network learns several low/mid/high level features at the end of its layers. In residual learning, instead of trying to learn some features, we try to learn some residual. Residual can be simply understood as subtraction of feature learned from input of that layer. ResNet does this using shortcut connections (directly connecting input of nth layer to some (n+x)th layer. It has proved that training this form of networks is easier than training simple deep convolutional neural networks and also the problem of degrading accuracy is resolved.\" Writen By Kartik Ordugo, https://www.quora.com/What-is-the-deep-neural-network-known-as-%E2%80%9CResNet-50%E2%80%9D\n",
    "\n",
    "ResNets take activations from one layer and feed it into another layer much deeper in the network. This is called \"Skip connections\". they work because the identity function is easy for residual blocks to learn, as the same input is used and transferred into a deeper layer and in the case that the weights/bias fails to change the input (by applying weight/bias decay), the relu goes back to the skipped input. Thereby learning the identity function.\n",
    "\n",
    "* Deep Residual Learning for Image Recognition by He et al.\n",
    "    - https://arxiv.org/abs/1512.03385\n",
    "* Identity Mappings in Deep Residual Networks by He et al.\n",
    "    - https://arxiv.org/abs/1603.05027\n",
    "* Youtube videos explaining Residual Networks by Andrew Ng\n",
    "    - ResNets https://www.youtube.com/watch?time_continue=1&v=K0uoBKBQ1gA\n",
    "    - Why ResNets work? https://www.youtube.com/watch?v=GSsKdtoatm8\n",
    "    - Network in Network architecture https://www.youtube.com/watch?v=9EZVpLTPGz8\n",
    "\n",
    "###### Below is an image of a residual module (Left) next to an updated residual module (Right) that uses pre-activation.\n",
    "\n",
    "Demostrated in 2016 in a follow up paper (see above), identity mappings helps the ResNets achieve higher accuracy."
   ]
  },
  {
   "cell_type": "code",
   "execution_count": 1,
   "metadata": {
    "collapsed": false,
    "scrolled": true
   },
   "outputs": [
    {
     "data": {
      "text/html": [
       "<img src=\"images/imagenet_resnet_residual_identity.png\"/>"
      ],
      "text/plain": [
       "<IPython.core.display.Image object>"
      ]
     },
     "execution_count": 1,
     "metadata": {},
     "output_type": "execute_result"
    }
   ],
   "source": [
    "# Modules to display images\n",
    "from IPython.display import Image\n",
    "from IPython.core.display import HTML, display\n",
    "# Display two images\n",
    "# display(HTML(\"<table><tr><td><img src='images/imagenet_resnet_residual.png'></td><td><img src='images/imagenet_resnet_residual_identity.png'></td></tr></table>\"))\n",
    "Image(url= \"images/imagenet_resnet_residual_identity.png\")"
   ]
  },
  {
   "cell_type": "markdown",
   "metadata": {},
   "source": [
    "###### ResNet50 Architecture Graph\n",
    "\n",
    "Click the link below for a detailed graph of the ResNet50 architecture\n",
    "\n",
    "http://ethereon.github.io/netscope/#/gist/db945b393d40bfa26006"
   ]
  },
  {
   "cell_type": "markdown",
   "metadata": {},
   "source": [
    "###### Flowchart\n",
    "\n",
    "In Progress"
   ]
  },
  {
   "cell_type": "markdown",
   "metadata": {},
   "source": [
    "##### Data directory structure"
   ]
  },
  {
   "cell_type": "raw",
   "metadata": {},
   "source": [
    "To complete the model testing, we will be using the Dogs vs Cats dataset from Kaggle because CIFAR-10 and MNIST have relatively low pixelation images.\n",
    "\n",
    "Dogs vs Cats data from Kaggle: https://www.kaggle.com/c/dogs-vs-cats/data\n",
    "\n",
    "Example: Dogs vs Cats (Directory Structure)\n",
    "\n",
    "data/\n",
    "    train/\n",
    "        dogs/\n",
    "            dog001.jpg\n",
    "            dog002.jpg\n",
    "            ...\n",
    "        cats/\n",
    "            cat001.jpg\n",
    "            cat002.jpg\n",
    "            ...\n",
    "    validation/\n",
    "        dogs/\n",
    "            dog001.jpg\n",
    "            dog002.jpg\n",
    "            ...\n",
    "        cats/\n",
    "            cat001.jpg\n",
    "            cat002.jpg\n",
    "            ...\n",
    "    test/\n",
    "        dogs/\n",
    "            dog001.jpg\n",
    "            dog002.jpg\n",
    "            ...\n",
    "        cats/\n",
    "            cat001.jpg\n",
    "            cat002.jpg\n",
    "            ..."
   ]
  },
  {
   "cell_type": "markdown",
   "metadata": {},
   "source": [
    "##### ImageNet\n",
    "\n",
    "What is ImageNet?\n",
    "\n",
    "ImageNet is formally a project aimed at (manually) labeling and categorizing images into almost 22,000 separate object categories for the purpose of computer vision research.\n",
    "\n",
    "When it comes to image classification, the ImageNet challenge is the de facto benchmark for computer vision classification algorithms — and the leaderboard for this challenge has been dominated by Convolutional Neural Networks and deep learning techniques since 2012. The state-of-the-art pre-trained networks included in the Keras core library represent some of the highest performing Convolutional Neural Networks on the ImageNet challenge over the past few years. These networks also demonstrate a strong ability to generalize to images outside the ImageNet dataset via transfer learning, such as feature extraction and fine-tuning.\n",
    "\n",
    "The goal of the ImageNet Large Scale Visual Recognition Challenge (ILSVRC) is to train a model that can correctly classify an input image into 1,000 separate object categories. Models are trained on ~1.2 million training images with another 50,000 images for validation and 100,000 images for testing.\n",
    "\n",
    "These 1,000 image categories represent object classes that we encounter in our day-to-day lives, such as species of dogs, cats, various household objects, types of vehicles, and much more. You can find the full list of object categories in the ILSVRC challenge here.\n",
    "http://image-net.org/challenges/LSVRC/2014/browse-synsets\n",
    "\n",
    "###### This dataset is what the ResNet50 model is trained on. It is good to know the classification labels from that dataset in order for us to work with the pre-trained transfer values. Our primary goal is to take note of the most prominent labels that come with our data type and get some insights into what the model is noticing.\n",
    "\n",
    "###### ImageNet classified synsets useful for ATMA\n",
    "\n",
    "* Letter opener, paper knife, paperknife - 1170 images\n",
    "* Assault rifle, assault gun - 1172 images\n",
    "* Revolver, six-gun, six-shooter - 1223 images\n",
    "* Sweatshirt - 1174 images\n",
    "* Jersey, T-shirt, tee shirt - 1331 images\n",
    "* revolver, six-gun, six-shooter\n",
    "* hatchet\n",
    "* cleaver, meat cleaver, chopper\n",
    "* guillotine\n",
    "* rifle\n",
    "* lighter, light, igniter, ignitor\n",
    "* holster\n",
    "* matchstick"
   ]
  },
  {
   "cell_type": "markdown",
   "metadata": {},
   "source": [
    "###### Imports"
   ]
  },
  {
   "cell_type": "code",
   "execution_count": 1,
   "metadata": {
    "collapsed": false
   },
   "outputs": [
    {
     "name": "stderr",
     "output_type": "stream",
     "text": [
      "Using TensorFlow backend.\n"
     ]
    }
   ],
   "source": [
    "# Utilities\n",
    "%matplotlib inline\n",
    "import matplotlib.pyplot as plt\n",
    "import numpy as np\n",
    "import tensorflow as tf\n",
    "import keras\n",
    "import pandas\n",
    "import os\n",
    "import sys\n",
    "\n",
    "# keras.layers\n",
    "from keras.layers import (\n",
    "    Input,\n",
    "    Activation,\n",
    "    Dense,\n",
    "    Flatten\n",
    ")\n",
    "from keras.layers.convolutional import (\n",
    "    Conv2D,\n",
    "    MaxPooling2D,\n",
    "    AveragePooling2D\n",
    ")\n",
    "from keras.layers.merge import add\n",
    "from keras.layers.normalization import BatchNormalization\n",
    "\n",
    "#others\n",
    "from keras.regularizers import l2\n",
    "from keras.optimizers import *\n",
    "from keras.applications import *\n",
    "from keras.models import (\n",
    "    Model,\n",
    "    load_model\n",
    ")\n",
    "from keras import backend as K\n",
    "from keras.preprocessing.image import ImageDataGenerator\n",
    "from keras.preprocessing import image\n",
    "from keras.callbacks import ModelCheckpoint, EarlyStopping\n",
    "from keras.applications.resnet50 import preprocess_input, decode_predictions\n",
    "\n"
   ]
  },
  {
   "cell_type": "markdown",
   "metadata": {},
   "source": [
    "###### Hyperparameters - for Fine-Tuning"
   ]
  },
  {
   "cell_type": "code",
   "execution_count": 2,
   "metadata": {
    "collapsed": true
   },
   "outputs": [],
   "source": [
    "img_width, img_height = 224, 224 # default parameters for ResNet50 is 224x224\n",
    "num_channels = 3 # 3 color channels for the frames (RBG)\n",
    "batch_size = 32 # we can try 4,8,32,64,128,256,..\n",
    "num_epochs = 10 # number of iterations the algorithm gets trained\n",
    "last_block_layer_of_base_model = 126 # last layer\n",
    "nadam_lr = 1e-5 # for nadam optimizer\n",
    "learning_rate = 0.045 # for sgd optimizer\n",
    "learning_rate_decay = 0.94 # every two seconds\n",
    "momentum = 0.9 # momentum used for the sgd optimizer\n",
    "transformation_ratio = .05 # how aggressive will the data augmentation/transformation be"
   ]
  },
  {
   "cell_type": "markdown",
   "metadata": {},
   "source": [
    "# Original ResNet50 Model - we will use it for testing purposes"
   ]
  },
  {
   "cell_type": "code",
   "execution_count": null,
   "metadata": {
    "collapsed": true
   },
   "outputs": [],
   "source": [
    "original_model = keras.applications.resnet50.ResNet50(include_top=True, weights='imagenet')"
   ]
  },
  {
   "cell_type": "markdown",
   "metadata": {},
   "source": [
    "###### Predicts an image using the original model. Prints out the predicted results"
   ]
  },
  {
   "cell_type": "code",
   "execution_count": null,
   "metadata": {
    "collapsed": true
   },
   "outputs": [],
   "source": [
    "def predict(img_path):\n",
    "    img = image.load_img(img_path, target_size=(img_widh, img_height))\n",
    "    plt.imshow(img)\n",
    "    plt.show()\n",
    "    img = image.img_to_array(img) # converts the image to a numpy array\n",
    "    img = np.expand_dims(img, axis=0) # adds a dimension to the image (s1,s2,channels) -> (samples,s1,s2,ch)\n",
    "                                      # this is bcus Keras works with batches of images. The first added dimension is used for that.\n",
    "    img = preprocess_input(img) # sets image to the format the model requires\n",
    "    \n",
    "    predictions = original_model.predict(img)\n",
    "    decoded_labels = decode_predictions(predictions)[0]\n",
    "    # decode_predictions returns a tuple (class, description, probability)\n",
    "    # of the top predictions specified\n",
    "    for image_id, class_name, score in decoded_labels:\n",
    "        print(\"{2:>6.2%} : {1}({0})\".format(image_id class_name, score) )"
   ]
  },
  {
   "cell_type": "markdown",
   "metadata": {},
   "source": [
    "## Test the model with many different crime images. Any patterns that ResNet50 specifically recognizes? Anything that it easily identifies? Anything that it misses? How many predicted labels should we consider? Why?\n",
    "\n",
    "# Stopping point for the task given to students"
   ]
  },
  {
   "cell_type": "markdown",
   "metadata": {},
   "source": [
    "###### Helper Functions\n",
    "\n",
    "Functions from Hvass-labs Tutorial #10: Fine-tuning https://github.com/Hvass-Labs/TensorFlow-Tutorials/blob/master/10_Fine-Tuning.ipynb"
   ]
  },
  {
   "cell_type": "code",
   "execution_count": 3,
   "metadata": {
    "collapsed": true
   },
   "outputs": [],
   "source": [
    "# Function used to plot at most 9 images in a 3x3 grid\n",
    "# with the corresponding true and predicted classes below\n",
    "\n",
    "def plot_images(images, cls_true, cls_pred=None, smooth=True):\n",
    "\n",
    "    assert len(images) == len(cls_true)\n",
    "\n",
    "    # Create figure with sub-plots.\n",
    "    fig, axes = plt.subplots(3, 3)\n",
    "    # axes becomes a 3x3 matrix with one axes in each element\n",
    "\n",
    "    # Adjust vertical spacing.\n",
    "    if cls_pred is None:\n",
    "        hspace = 0.3\n",
    "    else:\n",
    "        hspace = 0.6 # extra spacing for the class predicted values\n",
    "    fig.subplots_adjust(hspace=hspace, wspace=0.3)\n",
    "\n",
    "    # Interpolation type.\n",
    "    if smooth:\n",
    "        interpolation = 'spline16'\n",
    "    else:\n",
    "        interpolation = 'nearest'\n",
    "\n",
    "    for i, ax in enumerate(axes.flat): # flattens the 3x3 matrix into a 9x1 vector\n",
    "        # There may be less than 9 images, ensure it doesn't crash.\n",
    "        if i < len(images):\n",
    "            # Plot image.\n",
    "            ax.imshow(images[i],\n",
    "                      interpolation=interpolation)\n",
    "\n",
    "            # Name of the true class.\n",
    "            cls_true_name = class_names[cls_true[i]]\n",
    "\n",
    "            # Show true and predicted classes. If predicted value doesnt exist, it doesn't add it on the xlabel\n",
    "            if cls_pred is None:\n",
    "                xlabel = \"True: {0}\".format(cls_true_name)\n",
    "            else:\n",
    "                # Name of the predicted class.\n",
    "                cls_pred_name = class_names[cls_pred[i]]\n",
    "\n",
    "                xlabel = \"True: {0}\\nPred: {1}\".format(cls_true_name, cls_pred_name)\n",
    "\n",
    "            # Show the classes as the label on the x-axis.\n",
    "            ax.set_xlabel(xlabel)\n",
    "        \n",
    "        # Remove ticks from the plot.\n",
    "        ax.set_xticks([])\n",
    "        ax.set_yticks([])\n",
    "    \n",
    "    # Ensure the plot is shown correctly with multiple plots\n",
    "    # in a single Notebook cell.\n",
    "    plt.show()"
   ]
  },
  {
   "cell_type": "code",
   "execution_count": 4,
   "metadata": {
    "collapsed": true
   },
   "outputs": [],
   "source": [
    "# Plots the example errors (images) that were mis-classified\n",
    "# (uses plot_images)\n",
    "\n",
    "def plot_example_errors(cls_pred):\n",
    "    # cls_pred is an array of the predicted class-number for\n",
    "    # all images in the test-set.\n",
    "\n",
    "    # Boolean array whether the predicted class is incorrect.\n",
    "    incorrect = (cls_pred != cls_test)\n",
    "\n",
    "    # Get the file-paths for images that were incorrectly classified.\n",
    "    image_paths = np.array(image_paths_test)[incorrect]\n",
    "\n",
    "    # Load the first 9 images.\n",
    "    images = load_images(image_paths=image_paths[0:9])\n",
    "    \n",
    "    # Get the predicted classes for those images.\n",
    "    cls_pred = cls_pred[incorrect]\n",
    "\n",
    "    # Get the true classes for those images.\n",
    "    cls_true = cls_test[incorrect]\n",
    "    \n",
    "    # Plot the 9 images we have loaded and their corresponding classes.\n",
    "    # We have only loaded 9 images so there is no need to slice those again.\n",
    "    plot_images(images=images,\n",
    "                cls_true=cls_true[0:9],\n",
    "                cls_pred=cls_pred[0:9])"
   ]
  },
  {
   "cell_type": "code",
   "execution_count": 5,
   "metadata": {
    "collapsed": true
   },
   "outputs": [],
   "source": [
    "# prints the confusion matrix\n",
    "\n",
    "# Import a function from sklearn to calculate the confusion-matrix.\n",
    "from sklearn.metrics import confusion_matrix\n",
    "\n",
    "def print_confusion_matrix(cls_pred):\n",
    "    # cls_pred is an array of the predicted class-number for\n",
    "    # all images in the test-set.\n",
    "\n",
    "    # Get the confusion matrix using sklearn.\n",
    "    cm = confusion_matrix(y_true=cls_test,  # True class for test-set.\n",
    "                          y_pred=cls_pred)  # Predicted class.\n",
    "\n",
    "    print(\"Confusion matrix:\")\n",
    "    \n",
    "    # Print the confusion matrix as text.\n",
    "    print(cm)\n",
    "    \n",
    "    # Print the class-names for easy reference.\n",
    "    for i, class_name in enumerate(class_names):\n",
    "        print(\"({0}) {1}\".format(i, class_name))"
   ]
  },
  {
   "cell_type": "code",
   "execution_count": 6,
   "metadata": {
    "collapsed": true
   },
   "outputs": [],
   "source": [
    "# Plots the example errors and the confusion matrix \n",
    "# (uses plot_example_errors and plot_confusion_matrix)\n",
    "\n",
    "def example_errors():\n",
    "    # The Keras data-generator for the test-set must be reset before processing.\n",
    "    # This is because the generator will loop infinitely and keep an internal index\n",
    "    # into the dataset. So it might start in the middle of the test-set if we do\n",
    "    # not reset it first. This makes it impossible to match the predicted classes\n",
    "    # with the input images. If we reset the generator, then it always starts at the\n",
    "    # beginning so we know exactly which input-images were used.\n",
    "    generator_test.reset()\n",
    "    \n",
    "    # Predict the classes for all images in the test-set.\n",
    "    y_pred = new_model.predict_generator(generator_test,\n",
    "                                         steps=steps_test)\n",
    "\n",
    "    # Convert the predicted classes from arrays to integers. (picks the highest score (class prediction) for each image)\n",
    "    cls_pred = np.argmax(y_pred,axis=1)\n",
    "\n",
    "    # Plot examples of mis-classified images.\n",
    "    plot_example_errors(cls_pred)\n",
    "    \n",
    "    # Print the confusion matrix.\n",
    "    print_confusion_matrix(cls_pred)"
   ]
  },
  {
   "cell_type": "code",
   "execution_count": 7,
   "metadata": {
    "collapsed": true
   },
   "outputs": [],
   "source": [
    "# plots the history of the recorded accuracy and loss from the training iterations\n",
    "\n",
    "def plot_training_history(history):\n",
    "    # Get the classification accuracy and loss-value\n",
    "    # for the training-set.\n",
    "    acc = history.history['categorical_accuracy']\n",
    "    loss = history.history['loss']\n",
    "\n",
    "    # Get it for the validation-set (we only use the test-set).\n",
    "    val_acc = history.history['val_categorical_accuracy']\n",
    "    val_loss = history.history['val_loss']\n",
    "\n",
    "    # Plot the accuracy and loss-values for the training-set.\n",
    "    plt.plot(acc, linestyle='-', color='b', label='Training Acc.')\n",
    "    plt.plot(loss, 'o', color='b', label='Training Loss')\n",
    "    \n",
    "    # Plot it for the test-set.\n",
    "    plt.plot(val_acc, linestyle='--', color='r', label='Test Acc.')\n",
    "    plt.plot(val_loss, 'o', color='r', label='Test Loss')\n",
    "\n",
    "    # Plot title and legend.\n",
    "    plt.title('Training and Test Accuracy')\n",
    "    plt.legend()\n",
    "\n",
    "    # Ensure the plot shows correctly.\n",
    "    plt.show()"
   ]
  },
  {
   "cell_type": "code",
   "execution_count": 8,
   "metadata": {
    "collapsed": true
   },
   "outputs": [],
   "source": [
    "# Loads the images (as numpy arrays) from the directory into memory\n",
    "\n",
    "def load_images(image_paths):\n",
    "    # Load the images from disk.\n",
    "    images = [plt.imread(path) for path in image_paths]\n",
    "\n",
    "    # Convert to a numpy array and return it.\n",
    "    return np.asarray(images)"
   ]
  },
  {
   "cell_type": "code",
   "execution_count": 9,
   "metadata": {
    "collapsed": true
   },
   "outputs": [],
   "source": [
    "# joins a directory and a list of filenames into one big vector\n",
    "# that has an accurate path to each directory+filename\n",
    "def path_join(dirname, filenames):\n",
    "    return [os.path.join(dirname, filename) for filename in filenames]"
   ]
  },
  {
   "cell_type": "markdown",
   "metadata": {},
   "source": [
    "###### Acquiring the data from a zip file"
   ]
  },
  {
   "cell_type": "code",
   "execution_count": 10,
   "metadata": {
    "collapsed": true
   },
   "outputs": [
    {
     "data": {
      "text/plain": [
       "\"\\n# Unzip data files into directory path given\\nimport zipfile\\n# 'pwd' gets home folder where notebook opened. Very useful to get paths\\nimport zipfile\\nzip_ref = zipfile.ZipFile('/home/ivargaswhs88/projectATMA/cat_dog_data.zip','r')\\n# extracts what is in the zip file, which is already a folder called sdata\\n# so there is no need to create a new directory\\nzip_ref.extractall('/home/ivargaswhs88/projectATMA')\\nzip_ref.close()\\n\""
      ]
     },
     "execution_count": 10,
     "metadata": {},
     "output_type": "execute_result"
    }
   ],
   "source": [
    "# pwd\n",
    "# ^ gets us the home directory\n",
    "\n",
    "\"\"\"\n",
    "# Unzip data files into directory path given\n",
    "import zipfile\n",
    "# 'pwd' gets home folder where notebook opened. Very useful to get paths\n",
    "import zipfile\n",
    "zip_ref = zipfile.ZipFile('/home/ivargaswhs88/projectATMA/cat_dog_data.zip','r')\n",
    "# extracts what is in the zip file, which is already a folder called sdata\n",
    "# so there is no need to create a new directory\n",
    "zip_ref.extractall('/home/ivargaswhs88')\n",
    "zip_ref.close()\n",
    "\"\"\""
   ]
  },
  {
   "cell_type": "markdown",
   "metadata": {},
   "source": [
    "###### Acquiring the data path directories for each set (training, validation, test)"
   ]
  },
  {
   "cell_type": "code",
   "execution_count": 11,
   "metadata": {
    "collapsed": true
   },
   "outputs": [],
   "source": [
    "data_dir_path = os.path.abspath('/home/ivargaswhs88/cat_dog_data')\n",
    "train_dir_path = os.path.join(os.path.abspath(data_dir_path), 'train')\n",
    "validation_dir_path = os.path.join(os.path.abspath(data_dir_path), 'validation')\n",
    "test_dir_path = os.path.join(os.path.abspath(data_dir_path), 'test')"
   ]
  },
  {
   "cell_type": "code",
   "execution_count": 12,
   "metadata": {
    "collapsed": true
   },
   "outputs": [
    {
     "data": {
      "text/plain": [
       "'\\nKnifey Dataset\\njust in case we need to use it for secondary testing\\nImporting the knifey dataset used in the Hvass-Labs tutorials (8,9) \\nimport knifey\\nknifey.maybe_download_and_extract()\\nknifey.copy_files()\\ntrain_dir = knifey.train_dir\\ntest_dir = knifey.test_dir\\n'"
      ]
     },
     "execution_count": 12,
     "metadata": {},
     "output_type": "execute_result"
    }
   ],
   "source": [
    "'''\n",
    "Knifey Dataset\n",
    "just in case we need to use it for secondary testing\n",
    "Importing the knifey dataset used in the Hvass-Labs tutorials (8,9) \n",
    "import knifey\n",
    "knifey.maybe_download_and_extract()\n",
    "knifey.copy_files()\n",
    "train_dir = knifey.train_dir\n",
    "test_dir = knifey.test_dir\n",
    "'''"
   ]
  },
  {
   "cell_type": "markdown",
   "metadata": {},
   "source": [
    "###### Preprocessing the Data \n",
    "Training Set"
   ]
  },
  {
   "cell_type": "code",
   "execution_count": 13,
   "metadata": {
    "collapsed": false
   },
   "outputs": [
    {
     "name": "stdout",
     "output_type": "stream",
     "text": [
      "Found 1500 images belonging to 2 classes.\n"
     ]
    }
   ],
   "source": [
    "# the data generator takes in:\n",
    "    # The directory of the data, batch number, size of files\n",
    "# spits out:\n",
    "    # a batch of images with different parameters\n",
    "\n",
    "# function used to randomize the image parameters\n",
    "train_genFunction = ImageDataGenerator(rescale=1. / 255,\n",
    "                                       horizontal_flip=True,\n",
    "                                       vertical_flip=True \n",
    "                                      )\n",
    "# data generator that uses above function and applies it to the training files\n",
    "train_generator = train_genFunction.flow_from_directory(train_dir_path,\n",
    "                                                        target_size=(img_width, img_height),\n",
    "                                                        batch_size=batch_size,\n",
    "                                                        color_mode='rgb',\n",
    "                                                        class_mode='categorical',\n",
    "                                                        shuffle=True)\n",
    "# Additional arguments\n",
    "# rotation_range=transformation_ratio,\n",
    "# shear_range=transformation_ratio,\n",
    "# zoom_range=transformation_ratio,\n",
    "# cval=transformation_ratio,\n",
    "\n",
    "train_iterations = train_generator.n / batch_size\n",
    "# one epoch is when an entire dataset is passed through a NN only once\n",
    "# batch size is the number of training examples in a single batch\n",
    "# iterations = epoch / batch_size"
   ]
  },
  {
   "cell_type": "markdown",
   "metadata": {},
   "source": [
    "Validation Set"
   ]
  },
  {
   "cell_type": "code",
   "execution_count": 14,
   "metadata": {
    "collapsed": false
   },
   "outputs": [
    {
     "name": "stdout",
     "output_type": "stream",
     "text": [
      "Found 500 images belonging to 2 classes.\n"
     ]
    }
   ],
   "source": [
    "validation_genFunction = ImageDataGenerator(rescale=1. / 255)\n",
    "validation_generator = validation_genFunction.flow_from_directory(validation_dir_path,\n",
    "                                                             target_size=(img_width, img_height),\n",
    "                                                             batch_size=batch_size,\n",
    "                                                             color_mode='rgb',          \n",
    "                                                             class_mode='categorical',\n",
    "                                                             shuffle=False)\n",
    "validation_iterations = validation_generator.n / batch_size"
   ]
  },
  {
   "cell_type": "markdown",
   "metadata": {},
   "source": [
    "Test Set"
   ]
  },
  {
   "cell_type": "code",
   "execution_count": 15,
   "metadata": {
    "collapsed": false,
    "scrolled": true
   },
   "outputs": [
    {
     "name": "stdout",
     "output_type": "stream",
     "text": [
      "Found 500 images belonging to 2 classes.\n"
     ]
    }
   ],
   "source": [
    "test_genFunction = ImageDataGenerator(rescale=1. / 255)\n",
    "test_generator = test_genFunction.flow_from_directory(test_dir_path,\n",
    "                                                     target_size=(img_width, img_height),\n",
    "                                                     batch_size=1,\n",
    "                                                     shuffle=False)\n",
    "test_iterations = test_generator.n / batch_size"
   ]
  },
  {
   "cell_type": "code",
   "execution_count": 16,
   "metadata": {
    "collapsed": true
   },
   "outputs": [],
   "source": [
    "# gets the class numbers for all 3 datasets\n",
    "cls_train = train_generator.classes\n",
    "cls_validation = validation_generator.classes\n",
    "cls_test = test_generator.classes\n",
    "\n",
    "# gets the number of classes\n",
    "num_classes = train_generator.num_classes"
   ]
  },
  {
   "cell_type": "code",
   "execution_count": 17,
   "metadata": {
    "collapsed": false
   },
   "outputs": [
    {
     "data": {
      "text/plain": [
       "['cat', 'dog']"
      ]
     },
     "execution_count": 17,
     "metadata": {},
     "output_type": "execute_result"
    }
   ],
   "source": [
    "# list of class names exported from the directory\n",
    "# this is why it is important to name the directories carefully\n",
    "class_names = list(train_generator.class_indices.keys())\n",
    "# class_names = class_names[::-1]\n",
    "class_names"
   ]
  },
  {
   "cell_type": "code",
   "execution_count": 18,
   "metadata": {
    "collapsed": false
   },
   "outputs": [
    {
     "data": {
      "text/plain": [
       "\"\\n['path to first file',\\n 'path to second file', and so on\\n]\\n\""
      ]
     },
     "execution_count": 18,
     "metadata": {},
     "output_type": "execute_result"
    }
   ],
   "source": [
    "image_paths_train = path_join(train_dir_path, train_generator.filenames)\n",
    "image_paths_test = path_join(test_dir_path, test_generator.filenames)\n",
    "\n",
    "# Combines all file names into one big [nx1] matrix of paths\n",
    "'''\n",
    "['path to first file',\n",
    " 'path to second file', and so on\n",
    "]\n",
    "'''"
   ]
  },
  {
   "cell_type": "markdown",
   "metadata": {},
   "source": [
    "###### Plot a few images to see that the data is exported well"
   ]
  },
  {
   "cell_type": "code",
   "execution_count": 19,
   "metadata": {
    "collapsed": false
   },
   "outputs": [
    {
     "data": {
      "image/png": "[encoded data removed]",
      "text/plain": [
       "<matplotlib.figure.Figure at 0x7fa55d2bba20>"
      ]
     },
     "metadata": {},
     "output_type": "display_data"
    }
   ],
   "source": [
    "# Load the first images from the train-set.\n",
    "images = load_images(image_paths=image_paths_train[0:9])\n",
    "\n",
    "# Get the true classes for those images.\n",
    "cls_true = cls_train[0:9]\n",
    "\n",
    "# Plot the images and labels using our helper-function above.\n",
    "plot_images(images=images, cls_true=cls_true, smooth=True)"
   ]
  },
  {
   "cell_type": "markdown",
   "metadata": {},
   "source": [
    "# ATMA Model"
   ]
  },
  {
   "cell_type": "markdown",
   "metadata": {},
   "source": [
    "### Fine Tuning Part 1 - Dense Layers weights (Transfer Learning)"
   ]
  },
  {
   "cell_type": "markdown",
   "metadata": {},
   "source": [
    "###### Loading the base model"
   ]
  },
  {
   "cell_type": "code",
   "execution_count": 20,
   "metadata": {
    "collapsed": true
   },
   "outputs": [
    {
     "name": "stderr",
     "output_type": "stream",
     "text": [
      "/home/ivargaswhs88/anaconda3/lib/python3.5/site-packages/keras_applications/resnet50.py:265: UserWarning: The output shape of `ResNet50(include_top=False)` has been changed since Keras 2.2.0.\n",
      "  warnings.warn('The output shape of `ResNet50(include_top=False)` '\n"
     ]
    }
   ],
   "source": [
    "base_model = keras.applications.resnet50.ResNet50(include_top=False, weights='imagenet', input_shape=(img_width, img_height, 3))\n",
    "# ARGS:\n",
    "# include_top = False -> we will not get the last two fully connected layers\n",
    "# weights = 'imagenet' -> we will get the weights of the model after being trained by the given dataset\n",
    "\n",
    "# the output shape of the Base model.\n",
    "# base_model.output_shape"
   ]
  },
  {
   "cell_type": "code",
   "execution_count": 21,
   "metadata": {
    "collapsed": false,
    "scrolled": true
   },
   "outputs": [],
   "source": [
    "# get a summary. Get the name of last layer and put it below\n",
    "# base_model.summary()\n",
    "\n",
    "# last_conv_layer = base_model.get_layer('activation_98')\n",
    "# last_conv_layer.output to see what it outputs \n",
    "    # has to be a 4D vector (AllInputs, width, height, # of channels)\n",
    "    # (AllInputs, 7, 7, 2048)"
   ]
  },
  {
   "cell_type": "markdown",
   "metadata": {},
   "source": [
    "Freeze all ResNet50 convolutional model layers so we only fine-tune the weights of the last added layers we will create. Once those are fine-tuned, then we can fine-tune some of the deeper convolutional layers.\n",
    "\n",
    "This prevents a lot of errors that may propagate from the randomized weights of the layers we just created."
   ]
  },
  {
   "cell_type": "code",
   "execution_count": 60,
   "metadata": {
    "collapsed": false
   },
   "outputs": [],
   "source": [
    "# Freezing the layers\n",
    "base_model.trainable = False\n",
    "\n",
    "for layer in base_model.layers:\n",
    "    layer.trainable = False\n",
    "\n",
    "# We don't know if the 'trainable' boolean in the meta-layer 'base_model.trainable'\n",
    "# overrides all the layer trainable booleans. Therefore, we change both."
   ]
  },
  {
   "cell_type": "markdown",
   "metadata": {},
   "source": [
    "###### Model Completion with Keras Functional model"
   ]
  },
  {
   "cell_type": "code",
   "execution_count": 23,
   "metadata": {
    "collapsed": false
   },
   "outputs": [],
   "source": [
    "# Finishing up the architecture\n",
    "x = base_model.output\n",
    "x = Flatten()(x) # Flattens the 4-D layer into a 2-D layer (n, transfervalues)\n",
    "x = Dense(1024, activation='relu')(x) # a fc player with relu non-linear activation\n",
    "# here is where we would add a dropout layer. But ResNet50 does not really need dropout layers.\n",
    "predictions = Dense(num_classes, activation='softmax')(x) # a logistic layer with the number of classes and softmax to normalize the outputs"
   ]
  },
  {
   "cell_type": "code",
   "execution_count": 24,
   "metadata": {
    "collapsed": true
   },
   "outputs": [],
   "source": [
    "# Defining the model start and end points. Basically creates the model base architecture\n",
    "model = Model(inputs=base_model.input, outputs=predictions)"
   ]
  },
  {
   "cell_type": "code",
   "execution_count": 25,
   "metadata": {
    "collapsed": false
   },
   "outputs": [],
   "source": [
    "# Model Compilation --- must be done after freezing the layers\n",
    "# Complies the model for all the changes to take effect\n",
    "# this connects the whole model together and ready for use\n",
    "optimizer_transfer = Nadam(lr=nadam_lr)\n",
    "loss = 'categorical_crossentropy'\n",
    "metrics = ['accuracy']\n",
    "model.compile(optimizer=optimizer_transfer,\n",
    "              loss=loss,\n",
    "              metrics=metrics)"
   ]
  },
  {
   "cell_type": "code",
   "execution_count": 26,
   "metadata": {
    "collapsed": true
   },
   "outputs": [
    {
     "name": "stdout",
     "output_type": "stream",
     "text": [
      "Epoch 1/50\n",
      "100/100 [==============================] - 511s 5s/step - loss: 0.3323 - acc: 0.8892 - val_loss: 1.4043 - val_acc: 0.5000\n",
      "Epoch 2/50\n",
      "100/100 [==============================] - 493s 5s/step - loss: 0.1119 - acc: 0.9572 - val_loss: 2.2962 - val_acc: 0.5000\n",
      "Epoch 3/50\n",
      "100/100 [==============================] - 495s 5s/step - loss: 0.0601 - acc: 0.9796 - val_loss: 2.0847 - val_acc: 0.5000\n",
      "Epoch 4/50\n",
      "100/100 [==============================] - 491s 5s/step - loss: 0.0515 - acc: 0.9849 - val_loss: 2.0756 - val_acc: 0.5000\n",
      "Epoch 5/50\n",
      "100/100 [==============================] - 493s 5s/step - loss: 0.0200 - acc: 0.9928 - val_loss: 2.0666 - val_acc: 0.5000\n",
      "Epoch 6/50\n",
      "100/100 [==============================] - 491s 5s/step - loss: 0.0235 - acc: 0.9927 - val_loss: 1.9002 - val_acc: 0.5000\n",
      "Epoch 7/50\n",
      "100/100 [==============================] - 490s 5s/step - loss: 0.0109 - acc: 0.9949 - val_loss: 2.2735 - val_acc: 0.5000\n",
      "Epoch 8/50\n",
      "100/100 [==============================] - 490s 5s/step - loss: 0.0142 - acc: 0.9949 - val_loss: 2.1720 - val_acc: 0.5000\n",
      "Epoch 9/50\n",
      "100/100 [==============================] - 488s 5s/step - loss: 0.0075 - acc: 0.9978 - val_loss: 2.6009 - val_acc: 0.5000\n",
      "Epoch 10/50\n",
      "100/100 [==============================] - 488s 5s/step - loss: 0.0021 - acc: 0.9994 - val_loss: 2.6184 - val_acc: 0.5000\n",
      "Epoch 11/50\n",
      "100/100 [==============================] - 490s 5s/step - loss: 0.0033 - acc: 0.9994 - val_loss: 2.7495 - val_acc: 0.5000\n",
      "Epoch 12/50\n",
      "100/100 [==============================] - 488s 5s/step - loss: 8.4761e-04 - acc: 1.0000 - val_loss: 2.5659 - val_acc: 0.5000\n",
      "Epoch 13/50\n",
      "100/100 [==============================] - 489s 5s/step - loss: 0.0037 - acc: 0.9984 - val_loss: 2.5987 - val_acc: 0.5000\n",
      "Epoch 14/50\n",
      "100/100 [==============================] - 486s 5s/step - loss: 0.0051 - acc: 0.9978 - val_loss: 2.8574 - val_acc: 0.5000\n",
      "Epoch 15/50\n",
      "100/100 [==============================] - 486s 5s/step - loss: 0.0034 - acc: 0.9987 - val_loss: 3.7525 - val_acc: 0.5000\n",
      "Epoch 16/50\n",
      "100/100 [==============================] - 485s 5s/step - loss: 0.0032 - acc: 0.9987 - val_loss: 3.3958 - val_acc: 0.5000\n",
      "Epoch 17/50\n",
      "100/100 [==============================] - 485s 5s/step - loss: 0.0011 - acc: 0.9997 - val_loss: 3.6090 - val_acc: 0.5000\n",
      "Epoch 18/50\n",
      "100/100 [==============================] - 485s 5s/step - loss: 0.0012 - acc: 0.9997 - val_loss: 3.3823 - val_acc: 0.5000\n",
      "Epoch 19/50\n",
      "100/100 [==============================] - 486s 5s/step - loss: 7.6906e-04 - acc: 1.0000 - val_loss: 3.5134 - val_acc: 0.5000\n",
      "Epoch 20/50\n",
      "100/100 [==============================] - 487s 5s/step - loss: 0.0029 - acc: 0.9981 - val_loss: 3.0342 - val_acc: 0.5000\n",
      "Epoch 21/50\n",
      "100/100 [==============================] - 485s 5s/step - loss: 0.0075 - acc: 0.9975 - val_loss: 3.5963 - val_acc: 0.5000\n",
      "Epoch 22/50\n",
      "100/100 [==============================] - 484s 5s/step - loss: 0.0018 - acc: 0.9994 - val_loss: 3.4573 - val_acc: 0.5000\n",
      "Epoch 23/50\n",
      "100/100 [==============================] - 482s 5s/step - loss: 0.0012 - acc: 0.9997 - val_loss: 3.2339 - val_acc: 0.5000\n",
      "Epoch 24/50\n",
      "100/100 [==============================] - 493s 5s/step - loss: 0.0089 - acc: 0.9969 - val_loss: 3.4565 - val_acc: 0.5000\n",
      "Epoch 25/50\n",
      "100/100 [==============================] - 500s 5s/step - loss: 0.0051 - acc: 0.9984 - val_loss: 3.2898 - val_acc: 0.5000\n",
      "Epoch 26/50\n",
      "100/100 [==============================] - 498s 5s/step - loss: 0.0031 - acc: 0.9994 - val_loss: 3.5439 - val_acc: 0.5000\n",
      "Epoch 27/50\n",
      "100/100 [==============================] - 501s 5s/step - loss: 0.0032 - acc: 0.9991 - val_loss: 3.3720 - val_acc: 0.5000\n",
      "Epoch 28/50\n",
      "100/100 [==============================] - 502s 5s/step - loss: 0.0039 - acc: 0.9981 - val_loss: 3.4425 - val_acc: 0.5000\n",
      "Epoch 29/50\n",
      "100/100 [==============================] - 515s 5s/step - loss: 0.0049 - acc: 0.9978 - val_loss: 3.8244 - val_acc: 0.5000\n",
      "Epoch 30/50\n",
      "100/100 [==============================] - 515s 5s/step - loss: 0.0153 - acc: 0.9962 - val_loss: 2.1728 - val_acc: 0.5000\n",
      "Epoch 31/50\n",
      "100/100 [==============================] - 524s 5s/step - loss: 0.0044 - acc: 0.9981 - val_loss: 2.9437 - val_acc: 0.5000\n",
      "Epoch 32/50\n",
      "100/100 [==============================] - 530s 5s/step - loss: 0.0075 - acc: 0.9981 - val_loss: 3.7985 - val_acc: 0.5000\n",
      "Epoch 33/50\n",
      "100/100 [==============================] - 533s 5s/step - loss: 0.0050 - acc: 0.9978 - val_loss: 3.1987 - val_acc: 0.5000\n",
      "Epoch 34/50\n",
      "100/100 [==============================] - 534s 5s/step - loss: 0.0038 - acc: 0.9987 - val_loss: 3.9447 - val_acc: 0.5000\n",
      "Epoch 35/50\n",
      "100/100 [==============================] - 535s 5s/step - loss: 0.0013 - acc: 0.9994 - val_loss: 3.5270 - val_acc: 0.5000\n",
      "Epoch 36/50\n",
      "100/100 [==============================] - 537s 5s/step - loss: 0.0016 - acc: 0.9994 - val_loss: 3.0862 - val_acc: 0.5000\n",
      "Epoch 37/50\n",
      "100/100 [==============================] - 541s 5s/step - loss: 0.0055 - acc: 0.9984 - val_loss: 3.0433 - val_acc: 0.5000\n",
      "Epoch 38/50\n"
     ]
    },
    {
     "ename": "KeyboardInterrupt",
     "evalue": "",
     "output_type": "error",
     "traceback": [
      "\u001b[1;31m---------------------------------------------------------------------------\u001b[0m",
      "\u001b[1;31mKeyboardInterrupt\u001b[0m                         Traceback (most recent call last)",
      "\u001b[1;32m<ipython-input-26-20b3fa7b79cf>\u001b[0m in \u001b[0;36m<module>\u001b[1;34m()\u001b[0m\n\u001b[0;32m      4\u001b[0m                     \u001b[0msteps_per_epoch\u001b[0m\u001b[1;33m=\u001b[0m\u001b[1;36m100\u001b[0m\u001b[1;33m,\u001b[0m \u001b[1;31m# means one actual \"epoch\" will be epochs*100 for one actual full \"epoch\"\u001b[0m\u001b[1;33m\u001b[0m\u001b[0m\n\u001b[0;32m      5\u001b[0m                     \u001b[0mvalidation_data\u001b[0m\u001b[1;33m=\u001b[0m\u001b[0mvalidation_generator\u001b[0m\u001b[1;33m,\u001b[0m\u001b[1;33m\u001b[0m\u001b[0m\n\u001b[1;32m----> 6\u001b[1;33m                     validation_steps=validation_iterations)\n\u001b[0m",
      "\u001b[1;32m/home/ivargaswhs88/anaconda3/lib/python3.5/site-packages/keras/legacy/interfaces.py\u001b[0m in \u001b[0;36mwrapper\u001b[1;34m(*args, **kwargs)\u001b[0m\n\u001b[0;32m     89\u001b[0m                 warnings.warn('Update your `' + object_name + '` call to the ' +\n\u001b[0;32m     90\u001b[0m                               'Keras 2 API: ' + signature, stacklevel=2)\n\u001b[1;32m---> 91\u001b[1;33m             \u001b[1;32mreturn\u001b[0m \u001b[0mfunc\u001b[0m\u001b[1;33m(\u001b[0m\u001b[1;33m*\u001b[0m\u001b[0margs\u001b[0m\u001b[1;33m,\u001b[0m \u001b[1;33m**\u001b[0m\u001b[0mkwargs\u001b[0m\u001b[1;33m)\u001b[0m\u001b[1;33m\u001b[0m\u001b[0m\n\u001b[0m\u001b[0;32m     92\u001b[0m         \u001b[0mwrapper\u001b[0m\u001b[1;33m.\u001b[0m\u001b[0m_original_function\u001b[0m \u001b[1;33m=\u001b[0m \u001b[0mfunc\u001b[0m\u001b[1;33m\u001b[0m\u001b[0m\n\u001b[0;32m     93\u001b[0m         \u001b[1;32mreturn\u001b[0m \u001b[0mwrapper\u001b[0m\u001b[1;33m\u001b[0m\u001b[0m\n",
      "\u001b[1;32m/home/ivargaswhs88/anaconda3/lib/python3.5/site-packages/keras/engine/training.py\u001b[0m in \u001b[0;36mfit_generator\u001b[1;34m(self, generator, steps_per_epoch, epochs, verbose, callbacks, validation_data, validation_steps, class_weight, max_queue_size, workers, use_multiprocessing, shuffle, initial_epoch)\u001b[0m\n\u001b[0;32m   1416\u001b[0m             \u001b[0muse_multiprocessing\u001b[0m\u001b[1;33m=\u001b[0m\u001b[0muse_multiprocessing\u001b[0m\u001b[1;33m,\u001b[0m\u001b[1;33m\u001b[0m\u001b[0m\n\u001b[0;32m   1417\u001b[0m             \u001b[0mshuffle\u001b[0m\u001b[1;33m=\u001b[0m\u001b[0mshuffle\u001b[0m\u001b[1;33m,\u001b[0m\u001b[1;33m\u001b[0m\u001b[0m\n\u001b[1;32m-> 1418\u001b[1;33m             initial_epoch=initial_epoch)\n\u001b[0m\u001b[0;32m   1419\u001b[0m \u001b[1;33m\u001b[0m\u001b[0m\n\u001b[0;32m   1420\u001b[0m     \u001b[1;33m@\u001b[0m\u001b[0minterfaces\u001b[0m\u001b[1;33m.\u001b[0m\u001b[0mlegacy_generator_methods_support\u001b[0m\u001b[1;33m\u001b[0m\u001b[0m\n",
      "\u001b[1;32m/home/ivargaswhs88/anaconda3/lib/python3.5/site-packages/keras/engine/training_generator.py\u001b[0m in \u001b[0;36mfit_generator\u001b[1;34m(model, generator, steps_per_epoch, epochs, verbose, callbacks, validation_data, validation_steps, class_weight, max_queue_size, workers, use_multiprocessing, shuffle, initial_epoch)\u001b[0m\n\u001b[0;32m    215\u001b[0m                 outs = model.train_on_batch(x, y,\n\u001b[0;32m    216\u001b[0m                                             \u001b[0msample_weight\u001b[0m\u001b[1;33m=\u001b[0m\u001b[0msample_weight\u001b[0m\u001b[1;33m,\u001b[0m\u001b[1;33m\u001b[0m\u001b[0m\n\u001b[1;32m--> 217\u001b[1;33m                                             class_weight=class_weight)\n\u001b[0m\u001b[0;32m    218\u001b[0m \u001b[1;33m\u001b[0m\u001b[0m\n\u001b[0;32m    219\u001b[0m                 \u001b[0mouts\u001b[0m \u001b[1;33m=\u001b[0m \u001b[0mto_list\u001b[0m\u001b[1;33m(\u001b[0m\u001b[0mouts\u001b[0m\u001b[1;33m)\u001b[0m\u001b[1;33m\u001b[0m\u001b[0m\n",
      "\u001b[1;32m/home/ivargaswhs88/anaconda3/lib/python3.5/site-packages/keras/engine/training.py\u001b[0m in \u001b[0;36mtrain_on_batch\u001b[1;34m(self, x, y, sample_weight, class_weight)\u001b[0m\n\u001b[0;32m   1215\u001b[0m             \u001b[0mins\u001b[0m \u001b[1;33m=\u001b[0m \u001b[0mx\u001b[0m \u001b[1;33m+\u001b[0m \u001b[0my\u001b[0m \u001b[1;33m+\u001b[0m \u001b[0msample_weights\u001b[0m\u001b[1;33m\u001b[0m\u001b[0m\n\u001b[0;32m   1216\u001b[0m         \u001b[0mself\u001b[0m\u001b[1;33m.\u001b[0m\u001b[0m_make_train_function\u001b[0m\u001b[1;33m(\u001b[0m\u001b[1;33m)\u001b[0m\u001b[1;33m\u001b[0m\u001b[0m\n\u001b[1;32m-> 1217\u001b[1;33m         \u001b[0moutputs\u001b[0m \u001b[1;33m=\u001b[0m \u001b[0mself\u001b[0m\u001b[1;33m.\u001b[0m\u001b[0mtrain_function\u001b[0m\u001b[1;33m(\u001b[0m\u001b[0mins\u001b[0m\u001b[1;33m)\u001b[0m\u001b[1;33m\u001b[0m\u001b[0m\n\u001b[0m\u001b[0;32m   1218\u001b[0m         \u001b[1;32mreturn\u001b[0m \u001b[0munpack_singleton\u001b[0m\u001b[1;33m(\u001b[0m\u001b[0moutputs\u001b[0m\u001b[1;33m)\u001b[0m\u001b[1;33m\u001b[0m\u001b[0m\n\u001b[0;32m   1219\u001b[0m \u001b[1;33m\u001b[0m\u001b[0m\n",
      "\u001b[1;32m/home/ivargaswhs88/anaconda3/lib/python3.5/site-packages/keras/backend/tensorflow_backend.py\u001b[0m in \u001b[0;36m__call__\u001b[1;34m(self, inputs)\u001b[0m\n\u001b[0;32m   2713\u001b[0m                 \u001b[1;32mreturn\u001b[0m \u001b[0mself\u001b[0m\u001b[1;33m.\u001b[0m\u001b[0m_legacy_call\u001b[0m\u001b[1;33m(\u001b[0m\u001b[0minputs\u001b[0m\u001b[1;33m)\u001b[0m\u001b[1;33m\u001b[0m\u001b[0m\n\u001b[0;32m   2714\u001b[0m \u001b[1;33m\u001b[0m\u001b[0m\n\u001b[1;32m-> 2715\u001b[1;33m             \u001b[1;32mreturn\u001b[0m \u001b[0mself\u001b[0m\u001b[1;33m.\u001b[0m\u001b[0m_call\u001b[0m\u001b[1;33m(\u001b[0m\u001b[0minputs\u001b[0m\u001b[1;33m)\u001b[0m\u001b[1;33m\u001b[0m\u001b[0m\n\u001b[0m\u001b[0;32m   2716\u001b[0m         \u001b[1;32melse\u001b[0m\u001b[1;33m:\u001b[0m\u001b[1;33m\u001b[0m\u001b[0m\n\u001b[0;32m   2717\u001b[0m             \u001b[1;32mif\u001b[0m \u001b[0mpy_any\u001b[0m\u001b[1;33m(\u001b[0m\u001b[0mis_tensor\u001b[0m\u001b[1;33m(\u001b[0m\u001b[0mx\u001b[0m\u001b[1;33m)\u001b[0m \u001b[1;32mfor\u001b[0m \u001b[0mx\u001b[0m \u001b[1;32min\u001b[0m \u001b[0minputs\u001b[0m\u001b[1;33m)\u001b[0m\u001b[1;33m:\u001b[0m\u001b[1;33m\u001b[0m\u001b[0m\n",
      "\u001b[1;32m/home/ivargaswhs88/anaconda3/lib/python3.5/site-packages/keras/backend/tensorflow_backend.py\u001b[0m in \u001b[0;36m_call\u001b[1;34m(self, inputs)\u001b[0m\n\u001b[0;32m   2673\u001b[0m             \u001b[0mfetched\u001b[0m \u001b[1;33m=\u001b[0m \u001b[0mself\u001b[0m\u001b[1;33m.\u001b[0m\u001b[0m_callable_fn\u001b[0m\u001b[1;33m(\u001b[0m\u001b[1;33m*\u001b[0m\u001b[0marray_vals\u001b[0m\u001b[1;33m,\u001b[0m \u001b[0mrun_metadata\u001b[0m\u001b[1;33m=\u001b[0m\u001b[0mself\u001b[0m\u001b[1;33m.\u001b[0m\u001b[0mrun_metadata\u001b[0m\u001b[1;33m)\u001b[0m\u001b[1;33m\u001b[0m\u001b[0m\n\u001b[0;32m   2674\u001b[0m         \u001b[1;32melse\u001b[0m\u001b[1;33m:\u001b[0m\u001b[1;33m\u001b[0m\u001b[0m\n\u001b[1;32m-> 2675\u001b[1;33m             \u001b[0mfetched\u001b[0m \u001b[1;33m=\u001b[0m \u001b[0mself\u001b[0m\u001b[1;33m.\u001b[0m\u001b[0m_callable_fn\u001b[0m\u001b[1;33m(\u001b[0m\u001b[1;33m*\u001b[0m\u001b[0marray_vals\u001b[0m\u001b[1;33m)\u001b[0m\u001b[1;33m\u001b[0m\u001b[0m\n\u001b[0m\u001b[0;32m   2676\u001b[0m         \u001b[1;32mreturn\u001b[0m \u001b[0mfetched\u001b[0m\u001b[1;33m[\u001b[0m\u001b[1;33m:\u001b[0m\u001b[0mlen\u001b[0m\u001b[1;33m(\u001b[0m\u001b[0mself\u001b[0m\u001b[1;33m.\u001b[0m\u001b[0moutputs\u001b[0m\u001b[1;33m)\u001b[0m\u001b[1;33m]\u001b[0m\u001b[1;33m\u001b[0m\u001b[0m\n\u001b[0;32m   2677\u001b[0m \u001b[1;33m\u001b[0m\u001b[0m\n",
      "\u001b[1;32m/home/ivargaswhs88/anaconda3/lib/python3.5/site-packages/tensorflow/python/client/session.py\u001b[0m in \u001b[0;36m__call__\u001b[1;34m(self, *args, **kwargs)\u001b[0m\n\u001b[0;32m   1397\u001b[0m           ret = tf_session.TF_SessionRunCallable(\n\u001b[0;32m   1398\u001b[0m               \u001b[0mself\u001b[0m\u001b[1;33m.\u001b[0m\u001b[0m_session\u001b[0m\u001b[1;33m.\u001b[0m\u001b[0m_session\u001b[0m\u001b[1;33m,\u001b[0m \u001b[0mself\u001b[0m\u001b[1;33m.\u001b[0m\u001b[0m_handle\u001b[0m\u001b[1;33m,\u001b[0m \u001b[0margs\u001b[0m\u001b[1;33m,\u001b[0m \u001b[0mstatus\u001b[0m\u001b[1;33m,\u001b[0m\u001b[1;33m\u001b[0m\u001b[0m\n\u001b[1;32m-> 1399\u001b[1;33m               run_metadata_ptr)\n\u001b[0m\u001b[0;32m   1400\u001b[0m         \u001b[1;32mif\u001b[0m \u001b[0mrun_metadata\u001b[0m\u001b[1;33m:\u001b[0m\u001b[1;33m\u001b[0m\u001b[0m\n\u001b[0;32m   1401\u001b[0m           \u001b[0mproto_data\u001b[0m \u001b[1;33m=\u001b[0m \u001b[0mtf_session\u001b[0m\u001b[1;33m.\u001b[0m\u001b[0mTF_GetBuffer\u001b[0m\u001b[1;33m(\u001b[0m\u001b[0mrun_metadata_ptr\u001b[0m\u001b[1;33m)\u001b[0m\u001b[1;33m\u001b[0m\u001b[0m\n",
      "\u001b[1;31mKeyboardInterrupt\u001b[0m: "
     ]
    }
   ],
   "source": [
    "# train the transfer weights on the new data for a few epochs\n",
    "model.fit_generator(generator=train_generator,\n",
    "                    epochs=_transfer_num_epochs,\n",
    "                    steps_per_epoch=100, # means one actual \"epoch\" will be epochs*100 for one actual full \"epoch\"\n",
    "                    validation_data=validation_generator,\n",
    "                    validation_steps=validation_iterations)"
   ]
  },
  {
   "cell_type": "code",
   "execution_count": 33,
   "metadata": {
    "collapsed": false
   },
   "outputs": [
    {
     "name": "stdout",
     "output_type": "stream",
     "text": [
      "100.00%\n"
     ]
    }
   ],
   "source": [
    "# evaluate the model's performance\n",
    "result = model.evaluate_generator(test_generator, steps=test_iterations)\n",
    "\n",
    "# Prints the accuracy\n",
    "print(\"{0:.2%}\".format(result[1]))\n",
    "# What happens if we print out [0]? \n"
   ]
  },
  {
   "cell_type": "markdown",
   "metadata": {},
   "source": [
    "# Create a function that plots the results for analysis"
   ]
  },
  {
   "cell_type": "markdown",
   "metadata": {},
   "source": [
    "### Fine Tuning Part 2 - Resnet50 Convolutional Layers weights\n",
    "\n",
    "At this point, the weights of the dense layers have been fine tuned, we can now unfreeze some of the top layers and fine tune their weights"
   ]
  },
  {
   "cell_type": "code",
   "execution_count": 47,
   "metadata": {
    "collapsed": true
   },
   "outputs": [],
   "source": [
    "#prints the layers and their names\n",
    "def print_layer_trainable():\n",
    "    x = -1\n",
    "    for layer in base_model.layers:\n",
    "        x += 1\n",
    "        print(str(x) + \" {0}:\\t{1}\".format(layer.trainable, layer.name))"
   ]
  },
  {
   "cell_type": "code",
   "execution_count": 63,
   "metadata": {
    "collapsed": true
   },
   "outputs": [
    {
     "name": "stdout",
     "output_type": "stream",
     "text": [
      "0 False:\tinput_1\n",
      "1 False:\tconv1_pad\n",
      "2 False:\tconv1\n",
      "3 False:\tbn_conv1\n",
      "4 False:\tactivation_1\n",
      "5 False:\tpool1_pad\n",
      "6 False:\tmax_pooling2d_1\n",
      "7 False:\tres2a_branch2a\n",
      "8 False:\tbn2a_branch2a\n",
      "9 False:\tactivation_2\n",
      "10 False:\tres2a_branch2b\n",
      "11 False:\tbn2a_branch2b\n",
      "12 False:\tactivation_3\n",
      "13 False:\tres2a_branch2c\n",
      "14 False:\tres2a_branch1\n",
      "15 False:\tbn2a_branch2c\n",
      "16 False:\tbn2a_branch1\n",
      "17 False:\tadd_1\n",
      "18 False:\tactivation_4\n",
      "19 False:\tres2b_branch2a\n",
      "20 False:\tbn2b_branch2a\n",
      "21 False:\tactivation_5\n",
      "22 False:\tres2b_branch2b\n",
      "23 False:\tbn2b_branch2b\n",
      "24 False:\tactivation_6\n",
      "25 False:\tres2b_branch2c\n",
      "26 False:\tbn2b_branch2c\n",
      "27 False:\tadd_2\n",
      "28 False:\tactivation_7\n",
      "29 False:\tres2c_branch2a\n",
      "30 False:\tbn2c_branch2a\n",
      "31 False:\tactivation_8\n",
      "32 False:\tres2c_branch2b\n",
      "33 False:\tbn2c_branch2b\n",
      "34 False:\tactivation_9\n",
      "35 False:\tres2c_branch2c\n",
      "36 False:\tbn2c_branch2c\n",
      "37 False:\tadd_3\n",
      "38 False:\tactivation_10\n",
      "39 False:\tres3a_branch2a\n",
      "40 False:\tbn3a_branch2a\n",
      "41 False:\tactivation_11\n",
      "42 False:\tres3a_branch2b\n",
      "43 False:\tbn3a_branch2b\n",
      "44 False:\tactivation_12\n",
      "45 False:\tres3a_branch2c\n",
      "46 False:\tres3a_branch1\n",
      "47 False:\tbn3a_branch2c\n",
      "48 False:\tbn3a_branch1\n",
      "49 False:\tadd_4\n",
      "50 False:\tactivation_13\n",
      "51 False:\tres3b_branch2a\n",
      "52 False:\tbn3b_branch2a\n",
      "53 False:\tactivation_14\n",
      "54 False:\tres3b_branch2b\n",
      "55 False:\tbn3b_branch2b\n",
      "56 False:\tactivation_15\n",
      "57 False:\tres3b_branch2c\n",
      "58 False:\tbn3b_branch2c\n",
      "59 False:\tadd_5\n",
      "60 False:\tactivation_16\n",
      "61 False:\tres3c_branch2a\n",
      "62 False:\tbn3c_branch2a\n",
      "63 False:\tactivation_17\n",
      "64 False:\tres3c_branch2b\n",
      "65 False:\tbn3c_branch2b\n",
      "66 False:\tactivation_18\n",
      "67 False:\tres3c_branch2c\n",
      "68 False:\tbn3c_branch2c\n",
      "69 False:\tadd_6\n",
      "70 False:\tactivation_19\n",
      "71 False:\tres3d_branch2a\n",
      "72 False:\tbn3d_branch2a\n",
      "73 False:\tactivation_20\n",
      "74 False:\tres3d_branch2b\n",
      "75 False:\tbn3d_branch2b\n",
      "76 False:\tactivation_21\n",
      "77 False:\tres3d_branch2c\n",
      "78 False:\tbn3d_branch2c\n",
      "79 False:\tadd_7\n",
      "80 False:\tactivation_22\n",
      "81 False:\tres4a_branch2a\n",
      "82 False:\tbn4a_branch2a\n",
      "83 False:\tactivation_23\n",
      "84 False:\tres4a_branch2b\n",
      "85 False:\tbn4a_branch2b\n",
      "86 False:\tactivation_24\n",
      "87 False:\tres4a_branch2c\n",
      "88 False:\tres4a_branch1\n",
      "89 False:\tbn4a_branch2c\n",
      "90 False:\tbn4a_branch1\n",
      "91 False:\tadd_8\n",
      "92 False:\tactivation_25\n",
      "93 False:\tres4b_branch2a\n",
      "94 False:\tbn4b_branch2a\n",
      "95 False:\tactivation_26\n",
      "96 False:\tres4b_branch2b\n",
      "97 False:\tbn4b_branch2b\n",
      "98 False:\tactivation_27\n",
      "99 False:\tres4b_branch2c\n",
      "100 False:\tbn4b_branch2c\n",
      "101 False:\tadd_9\n",
      "102 False:\tactivation_28\n",
      "103 False:\tres4c_branch2a\n",
      "104 False:\tbn4c_branch2a\n",
      "105 False:\tactivation_29\n",
      "106 False:\tres4c_branch2b\n",
      "107 False:\tbn4c_branch2b\n",
      "108 False:\tactivation_30\n",
      "109 False:\tres4c_branch2c\n",
      "110 False:\tbn4c_branch2c\n",
      "111 False:\tadd_10\n",
      "112 False:\tactivation_31\n",
      "113 False:\tres4d_branch2a\n",
      "114 False:\tbn4d_branch2a\n",
      "115 False:\tactivation_32\n",
      "116 False:\tres4d_branch2b\n",
      "117 False:\tbn4d_branch2b\n",
      "118 False:\tactivation_33\n",
      "119 False:\tres4d_branch2c\n",
      "120 False:\tbn4d_branch2c\n",
      "121 False:\tadd_11\n",
      "122 False:\tactivation_34\n",
      "123 False:\tres4e_branch2a\n",
      "124 False:\tbn4e_branch2a\n",
      "125 False:\tactivation_35\n",
      "126 False:\tres4e_branch2b\n",
      "127 False:\tbn4e_branch2b\n",
      "128 False:\tactivation_36\n",
      "129 False:\tres4e_branch2c\n",
      "130 False:\tbn4e_branch2c\n",
      "131 False:\tadd_12\n",
      "132 False:\tactivation_37\n",
      "133 False:\tres4f_branch2a\n",
      "134 False:\tbn4f_branch2a\n",
      "135 False:\tactivation_38\n",
      "136 False:\tres4f_branch2b\n",
      "137 False:\tbn4f_branch2b\n",
      "138 False:\tactivation_39\n",
      "139 False:\tres4f_branch2c\n",
      "140 False:\tbn4f_branch2c\n",
      "141 False:\tadd_13\n",
      "142 False:\tactivation_40\n",
      "143 False:\tres5a_branch2a\n",
      "144 False:\tbn5a_branch2a\n",
      "145 False:\tactivation_41\n",
      "146 False:\tres5a_branch2b\n",
      "147 False:\tbn5a_branch2b\n",
      "148 False:\tactivation_42\n",
      "149 False:\tres5a_branch2c\n",
      "150 False:\tres5a_branch1\n",
      "151 False:\tbn5a_branch2c\n",
      "152 False:\tbn5a_branch1\n",
      "153 False:\tadd_14\n",
      "154 False:\tactivation_43\n",
      "155 True:\tres5b_branch2a\n",
      "156 True:\tbn5b_branch2a\n",
      "157 True:\tactivation_44\n",
      "158 True:\tres5b_branch2b\n",
      "159 True:\tbn5b_branch2b\n",
      "160 True:\tactivation_45\n",
      "161 True:\tres5b_branch2c\n",
      "162 True:\tbn5b_branch2c\n",
      "163 True:\tadd_15\n",
      "164 True:\tactivation_46\n",
      "165 True:\tres5c_branch2a\n",
      "166 True:\tbn5c_branch2a\n",
      "167 True:\tactivation_47\n",
      "168 True:\tres5c_branch2b\n",
      "169 True:\tbn5c_branch2b\n",
      "170 True:\tactivation_48\n",
      "171 True:\tres5c_branch2c\n",
      "172 True:\tbn5c_branch2c\n",
      "173 True:\tadd_16\n",
      "174 True:\tactivation_49\n"
     ]
    }
   ],
   "source": [
    "print_layer_trainable()"
   ]
  },
  {
   "cell_type": "markdown",
   "metadata": {},
   "source": [
    "add_16 = res5c (3 a-b-c) --- so res4b (add_15) is the second to last activation function and so there is one block which we can change the weights of.\n",
    "add_13 = res4f (6)\n",
    "add_7 = res3d (4)\n",
    "add_3 = res2c (3)\n",
    "\n",
    "activation_49 = res5c_relu\n",
    "same idea for name as top one ^\n",
    "\n",
    "for the layer boolean values changes, do one after the activation function number"
   ]
  },
  {
   "cell_type": "code",
   "execution_count": 61,
   "metadata": {
    "collapsed": true
   },
   "outputs": [
    {
     "data": {
      "text/plain": [
       "<tf.Tensor 'activation_43/Relu:0' shape=(?, 7, 7, 2048) dtype=float32>"
      ]
     },
     "execution_count": 61,
     "metadata": {},
     "output_type": "execute_result"
    }
   ],
   "source": [
    "base_model.layers[154].output # activation_43 (two residual blocks before prediction)"
   ]
  },
  {
   "cell_type": "code",
   "execution_count": 62,
   "metadata": {
    "collapsed": false
   },
   "outputs": [],
   "source": [
    "# Unfreezing the layers\n",
    "base_model.trainable = True\n",
    "    \n",
    "# Get the layer number needed for fine-tune\n",
    "for layer in base_model.layers[155:]:\n",
    "    layer.trainable = True"
   ]
  },
  {
   "cell_type": "code",
   "execution_count": 16,
   "metadata": {
    "collapsed": true
   },
   "outputs": [
    {
     "data": {
      "text/plain": [
       "\"train_datagen = ImageDataGenerator(rescale=1. / 255,\\n                   rotation_range=transformation_ratio,\\n                   shear_range=transformation_ratio,\\n                   zoom_range=transformation_ratio,\\n                   cval=transformation_ratio,\\n                   horizontal_flip=True,\\n                   vertical_flip=True)\\n\\nvalidation_datagen = ImageDataGenerator(rescale=1. / 255)\\n\\nvalidation_generator = validation_datagen.flow_from_directory(validation_data_dir,\\n                          target_size=(img_width, img_height),\\n                          batch_size=batch_size,\\n                          class_mode='categorical')\\n\\n\\n# Creates new directory if it does not exist, in the joined path of the train_data_dir path\\n\\nos.makedirs(os.path.join(os.path.abspath(train_data_dir), '../preview'), exist_ok=True)\\n\\n\\n# the data generator takes in:\\n    # The directory of the data\\n    # gets a small batch size of files\\n    # resizes them to the target_size\\n# it spits out a batch of images with different parameters\\n\\ntrain_generator = train_datagen.flow_from_directory(train_data_dir,\\n                    target_size=(img_width, img_height),\\n                    batch_size=batch_size,\\n                    class_mode='categorical')\\n\""
      ]
     },
     "execution_count": 16,
     "metadata": {},
     "output_type": "execute_result"
    }
   ],
   "source": [
    "# Creates new directory if it does not exist, in the joined path of the train_data_dir path\n",
    "# os.makedirs(os.path.join(os.path.abspath(train_data_dir), '../preview'), exist_ok=True)"
   ]
  },
  {
   "cell_type": "code",
   "execution_count": 65,
   "metadata": {
    "collapsed": false
   },
   "outputs": [],
   "source": [
    "optimizer_finetune = Nadam(lr=1e-7)\n",
    "# the learning rate is much smaller. The weights must change much more carefully\n",
    "\n",
    "# recompile the model for the changes to take effect\n",
    "model.compile(optimizer=optimizer_finetune,\n",
    "              loss=loss,\n",
    "              metrics=metrics)"
   ]
  },
  {
   "cell_type": "code",
   "execution_count": null,
   "metadata": {
    "collapsed": true
   },
   "outputs": [],
   "source": [
    "# train the full model with two  on the new data for a few epochs\n",
    "model.fit_generator(generator=train_generator,\n",
    "                    epochs=finetune_num_epochs,\n",
    "                    steps_per_epoch=100, # means we one \"epoch\" will be epochs*100 for one actual full \"epoch\"\n",
    "                    validation_data=validation_generator,\n",
    "                    validation_steps=validation_iterations)"
   ]
  },
  {
   "cell_type": "code",
   "execution_count": null,
   "metadata": {
    "collapsed": true
   },
   "outputs": [],
   "source": [
    "result = model.evaluate_generator(test_generator, steps=test_iterations)\n",
    "print(\"{0:.2%}\".format(result[1]))"
   ]
  },
  {
   "cell_type": "code",
   "execution_count": null,
   "metadata": {
    "collapsed": true
   },
   "outputs": [],
   "source": [
    "# save model as json_file\n",
    "    model_json = model.to_json()\n",
    "    with open(os.path.join(os.path.abspath(model_path), 'model.json'), 'w') as json_file:\n",
    "        json_file.write(model_json)"
   ]
  },
  {
   "cell_type": "markdown",
   "metadata": {},
   "source": [
    "# Change the epochs & steps per epoch of the transfer values and the fine tune part, then train. see if finetuning helps"
   ]
  },
  {
   "cell_type": "markdown",
   "metadata": {},
   "source": [
    "# ResNet50 additional resources\n",
    "\n",
    "* Deep Residual Networks https://github.com/KaimingHe/deep-residual-networks\n",
    "* Graph: http://ethereon.github.io/netscope/#/gist/db945b393d40bfa26006\n",
    "* Keras ResNet50 Implementation https://github.com/raghakot/keras-resnet\n",
    "* https://www.pyimagesearch.com/2017/03/20/imagenet-vggnet-resnet-inception-xception-keras/\n",
    "* https://www.quora.com/What-is-the-deep-neural-network-known-as-%E2%80%9CResNet-50%E2%80%9D"
   ]
  },
  {
   "cell_type": "markdown",
   "metadata": {},
   "source": [
    "# Pickling"
   ]
  },
  {
   "cell_type": "code",
   "execution_count": 17,
   "metadata": {
    "collapsed": true
   },
   "outputs": [
    {
     "data": {
      "text/plain": [
       "\"import dill\\n\\n# Save session\\ndill.dump_session('saved_sessions/testPickle.db')\\n\\n# Load session\\n# dill.load_session('saved_sessions/testPickle.db')\""
      ]
     },
     "execution_count": 17,
     "metadata": {},
     "output_type": "execute_result"
    }
   ],
   "source": [
    "'''import dill\n",
    "\n",
    "# Save session\n",
    "dill.dump_session('saved_sessions/testPickle.db')\n",
    "\n",
    "# Load session\n",
    "# dill.load_session('saved_sessions/testPickle.db')'''"
   ]
  }
 ],
 "metadata": {
  "kernelspec": {
   "display_name": "Python 3",
   "language": "python",
   "name": "python3"
  },
  "language_info": {
   "codemirror_mode": {
    "name": "ipython",
    "version": 3
   },
   "file_extension": ".py",
   "mimetype": "text/x-python",
   "name": "python",
   "nbconvert_exporter": "python",
   "pygments_lexer": "ipython3",
   "version": "3.5.1"
  }
 },
 "nbformat": 4,
 "nbformat_minor": 1
}
